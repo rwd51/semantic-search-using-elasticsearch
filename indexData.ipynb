{
 "cells": [
  {
   "cell_type": "code",
   "execution_count": null,
   "metadata": {},
   "outputs": [],
   "source": []
  },
  {
   "cell_type": "code",
   "execution_count": 1,
   "metadata": {},
   "outputs": [],
   "source": [
    "from elasticsearch import Elasticsearch"
   ]
  },
  {
   "cell_type": "code",
   "execution_count": 3,
   "metadata": {},
   "outputs": [
    {
     "data": {
      "text/plain": [
       "True"
      ]
     },
     "execution_count": 3,
     "metadata": {},
     "output_type": "execute_result"
    }
   ],
   "source": [
    "# Properly specify the scheme (http) in the URL\n",
    "es = Elasticsearch([\"http://localhost:9200\"])\n",
    "es.ping()"
   ]
  },
  {
   "cell_type": "markdown",
   "metadata": {},
   "source": [
    "## Prepare the Data"
   ]
  },
  {
   "cell_type": "code",
   "execution_count": 5,
   "metadata": {},
   "outputs": [],
   "source": [
    "import pandas as pd"
   ]
  },
  {
   "cell_type": "code",
   "execution_count": 12,
   "metadata": {},
   "outputs": [
    {
     "data": {
      "text/html": [
       "<div>\n",
       "<style scoped>\n",
       "    .dataframe tbody tr th:only-of-type {\n",
       "        vertical-align: middle;\n",
       "    }\n",
       "\n",
       "    .dataframe tbody tr th {\n",
       "        vertical-align: top;\n",
       "    }\n",
       "\n",
       "    .dataframe thead th {\n",
       "        text-align: right;\n",
       "    }\n",
       "</style>\n",
       "<table border=\"1\" class=\"dataframe\">\n",
       "  <thead>\n",
       "    <tr style=\"text-align: right;\">\n",
       "      <th></th>\n",
       "      <th>ProductID</th>\n",
       "      <th>ProductName</th>\n",
       "      <th>ProductBrand</th>\n",
       "      <th>Gender</th>\n",
       "      <th>Price (INR)</th>\n",
       "      <th>NumImages</th>\n",
       "      <th>Description</th>\n",
       "      <th>PrimaryColor</th>\n",
       "    </tr>\n",
       "  </thead>\n",
       "  <tbody>\n",
       "    <tr>\n",
       "      <th>0</th>\n",
       "      <td>10017413</td>\n",
       "      <td>DKNY Unisex Black &amp; Grey Printed Medium Trolle...</td>\n",
       "      <td>DKNY</td>\n",
       "      <td>Unisex</td>\n",
       "      <td>11745</td>\n",
       "      <td>7</td>\n",
       "      <td>Black and grey printed medium trolley bag, sec...</td>\n",
       "      <td>Black</td>\n",
       "    </tr>\n",
       "    <tr>\n",
       "      <th>1</th>\n",
       "      <td>10016283</td>\n",
       "      <td>EthnoVogue Women Beige &amp; Grey Made to Measure ...</td>\n",
       "      <td>EthnoVogue</td>\n",
       "      <td>Women</td>\n",
       "      <td>5810</td>\n",
       "      <td>7</td>\n",
       "      <td>Beige &amp; Grey made to measure kurta with churid...</td>\n",
       "      <td>Beige</td>\n",
       "    </tr>\n",
       "    <tr>\n",
       "      <th>2</th>\n",
       "      <td>10009781</td>\n",
       "      <td>SPYKAR Women Pink Alexa Super Skinny Fit High-...</td>\n",
       "      <td>SPYKAR</td>\n",
       "      <td>Women</td>\n",
       "      <td>899</td>\n",
       "      <td>7</td>\n",
       "      <td>Pink coloured wash 5-pocket high-rise cropped ...</td>\n",
       "      <td>Pink</td>\n",
       "    </tr>\n",
       "    <tr>\n",
       "      <th>3</th>\n",
       "      <td>10015921</td>\n",
       "      <td>Raymond Men Blue Self-Design Single-Breasted B...</td>\n",
       "      <td>Raymond</td>\n",
       "      <td>Men</td>\n",
       "      <td>5599</td>\n",
       "      <td>5</td>\n",
       "      <td>Blue self-design bandhgala suitBlue self-desig...</td>\n",
       "      <td>Blue</td>\n",
       "    </tr>\n",
       "    <tr>\n",
       "      <th>4</th>\n",
       "      <td>10017833</td>\n",
       "      <td>Parx Men Brown &amp; Off-White Slim Fit Printed Ca...</td>\n",
       "      <td>Parx</td>\n",
       "      <td>Men</td>\n",
       "      <td>759</td>\n",
       "      <td>5</td>\n",
       "      <td>Brown and off-white printed casual shirt, has ...</td>\n",
       "      <td>White</td>\n",
       "    </tr>\n",
       "  </tbody>\n",
       "</table>\n",
       "</div>"
      ],
      "text/plain": [
       "   ProductID                                        ProductName ProductBrand  \\\n",
       "0   10017413  DKNY Unisex Black & Grey Printed Medium Trolle...         DKNY   \n",
       "1   10016283  EthnoVogue Women Beige & Grey Made to Measure ...   EthnoVogue   \n",
       "2   10009781  SPYKAR Women Pink Alexa Super Skinny Fit High-...       SPYKAR   \n",
       "3   10015921  Raymond Men Blue Self-Design Single-Breasted B...      Raymond   \n",
       "4   10017833  Parx Men Brown & Off-White Slim Fit Printed Ca...         Parx   \n",
       "\n",
       "   Gender  Price (INR)  NumImages  \\\n",
       "0  Unisex        11745          7   \n",
       "1   Women         5810          7   \n",
       "2   Women          899          7   \n",
       "3     Men         5599          5   \n",
       "4     Men          759          5   \n",
       "\n",
       "                                         Description PrimaryColor  \n",
       "0  Black and grey printed medium trolley bag, sec...        Black  \n",
       "1  Beige & Grey made to measure kurta with churid...        Beige  \n",
       "2  Pink coloured wash 5-pocket high-rise cropped ...         Pink  \n",
       "3  Blue self-design bandhgala suitBlue self-desig...         Blue  \n",
       "4  Brown and off-white printed casual shirt, has ...        White  "
      ]
     },
     "execution_count": 12,
     "metadata": {},
     "output_type": "execute_result"
    }
   ],
   "source": [
    "df=pd.read_csv('myntra_products_catalog.csv').loc[:499]\n",
    "df.head()"
   ]
  },
  {
   "cell_type": "code",
   "execution_count": 15,
   "metadata": {},
   "outputs": [
    {
     "data": {
      "text/plain": [
       "ProductID  ProductName  ProductBrand  Gender  Price (INR)  NumImages  Description  PrimaryColor\n",
       "False      False        False         False   False        False      False        False           500\n",
       "Name: count, dtype: int64"
      ]
     },
     "execution_count": 15,
     "metadata": {},
     "output_type": "execute_result"
    }
   ],
   "source": [
    "df.isna().value_counts()"
   ]
  },
  {
   "cell_type": "code",
   "execution_count": 14,
   "metadata": {},
   "outputs": [],
   "source": [
    "df.fillna('None',inplace=True)"
   ]
  },
  {
   "cell_type": "markdown",
   "metadata": {},
   "source": [
    "## Convert the relevant field to vector using BERT Model"
   ]
  },
  {
   "cell_type": "code",
   "execution_count": 17,
   "metadata": {},
   "outputs": [
    {
     "name": "stderr",
     "output_type": "stream",
     "text": [
      "/Users/ruwadnaswan/Desktop/search-engine-demo/venv/lib/python3.13/site-packages/tqdm/auto.py:21: TqdmWarning: IProgress not found. Please update jupyter and ipywidgets. See https://ipywidgets.readthedocs.io/en/stable/user_install.html\n",
      "  from .autonotebook import tqdm as notebook_tqdm\n",
      "Error while downloading from https://cdn-lfs.hf.co/sentence-transformers/all-mpnet-base-v2/78c0197b6159d92658e319bc1d72e4c73a9a03dd03815e70e555c5ef05615658?response-content-disposition=inline%3B+filename*%3DUTF-8%27%27model.safetensors%3B+filename%3D%22model.safetensors%22%3B&Expires=1742427695&Policy=eyJTdGF0ZW1lbnQiOlt7IkNvbmRpdGlvbiI6eyJEYXRlTGVzc1RoYW4iOnsiQVdTOkVwb2NoVGltZSI6MTc0MjQyNzY5NX19LCJSZXNvdXJjZSI6Imh0dHBzOi8vY2RuLWxmcy5oZi5jby9zZW50ZW5jZS10cmFuc2Zvcm1lcnMvYWxsLW1wbmV0LWJhc2UtdjIvNzhjMDE5N2I2MTU5ZDkyNjU4ZTMxOWJjMWQ3MmU0YzczYTlhMDNkZDAzODE1ZTcwZTU1NWM1ZWYwNTYxNTY1OD9yZXNwb25zZS1jb250ZW50LWRpc3Bvc2l0aW9uPSoifV19&Signature=qmdh1iyie-1ZEGujHRcAV4F4Z73xDS6kbbpS997-XLI9CsFgHbtMHdNj6R-dmMME6OexYzlDoxXjA01ghrgKEMkKjrxs12Hjq9Gs30CwfkDnPeG2sH1IwRFhn43EDkqIOAe4dzXytRMNURlCHJtU334D7gC3AdCJ5sjY-86itixGG7lZaLIgFA1pIbT8a-xLUUxuVvoZ8E05pT8lDn3qDXrAmGBKiigsX8mh-ADj3-dUDGuji3gxhye%7Esf4vQs7gclqIdXHKViRm0l8ZU%7E%7EkVx8VeM-DBEw%7EFqVPA0lXLST1DudO7-%7El%7EMvknv4VxA-0p5v3aga3Wg0Efho2n7ifTQ__&Key-Pair-Id=K3RPWS32NSSJCE: HTTPSConnectionPool(host='cdn-lfs.hf.co', port=443): Read timed out.\n",
      "Trying to resume download...\n",
      "Error while downloading from https://cdn-lfs.hf.co/sentence-transformers/all-mpnet-base-v2/78c0197b6159d92658e319bc1d72e4c73a9a03dd03815e70e555c5ef05615658?response-content-disposition=inline%3B+filename*%3DUTF-8%27%27model.safetensors%3B+filename%3D%22model.safetensors%22%3B&Expires=1742427695&Policy=eyJTdGF0ZW1lbnQiOlt7IkNvbmRpdGlvbiI6eyJEYXRlTGVzc1RoYW4iOnsiQVdTOkVwb2NoVGltZSI6MTc0MjQyNzY5NX19LCJSZXNvdXJjZSI6Imh0dHBzOi8vY2RuLWxmcy5oZi5jby9zZW50ZW5jZS10cmFuc2Zvcm1lcnMvYWxsLW1wbmV0LWJhc2UtdjIvNzhjMDE5N2I2MTU5ZDkyNjU4ZTMxOWJjMWQ3MmU0YzczYTlhMDNkZDAzODE1ZTcwZTU1NWM1ZWYwNTYxNTY1OD9yZXNwb25zZS1jb250ZW50LWRpc3Bvc2l0aW9uPSoifV19&Signature=qmdh1iyie-1ZEGujHRcAV4F4Z73xDS6kbbpS997-XLI9CsFgHbtMHdNj6R-dmMME6OexYzlDoxXjA01ghrgKEMkKjrxs12Hjq9Gs30CwfkDnPeG2sH1IwRFhn43EDkqIOAe4dzXytRMNURlCHJtU334D7gC3AdCJ5sjY-86itixGG7lZaLIgFA1pIbT8a-xLUUxuVvoZ8E05pT8lDn3qDXrAmGBKiigsX8mh-ADj3-dUDGuji3gxhye%7Esf4vQs7gclqIdXHKViRm0l8ZU%7E%7EkVx8VeM-DBEw%7EFqVPA0lXLST1DudO7-%7El%7EMvknv4VxA-0p5v3aga3Wg0Efho2n7ifTQ__&Key-Pair-Id=K3RPWS32NSSJCE: HTTPSConnectionPool(host='cdn-lfs.hf.co', port=443): Read timed out.\n",
      "Trying to resume download...\n"
     ]
    }
   ],
   "source": [
    "from sentence_transformers import SentenceTransformer\n",
    "\n",
    "# Load https://huggingface.co/sentence-transformers/all-mpnet-base-v2\n",
    "model = SentenceTransformer(\"all-mpnet-base-v2\")\n"
   ]
  },
  {
   "cell_type": "code",
   "execution_count": 18,
   "metadata": {},
   "outputs": [],
   "source": [
    "df['DescriptionVector'] = df['Description'].apply(lambda x: model.encode(x))"
   ]
  },
  {
   "cell_type": "code",
   "execution_count": 19,
   "metadata": {},
   "outputs": [
    {
     "data": {
      "text/html": [
       "<div>\n",
       "<style scoped>\n",
       "    .dataframe tbody tr th:only-of-type {\n",
       "        vertical-align: middle;\n",
       "    }\n",
       "\n",
       "    .dataframe tbody tr th {\n",
       "        vertical-align: top;\n",
       "    }\n",
       "\n",
       "    .dataframe thead th {\n",
       "        text-align: right;\n",
       "    }\n",
       "</style>\n",
       "<table border=\"1\" class=\"dataframe\">\n",
       "  <thead>\n",
       "    <tr style=\"text-align: right;\">\n",
       "      <th></th>\n",
       "      <th>ProductID</th>\n",
       "      <th>ProductName</th>\n",
       "      <th>ProductBrand</th>\n",
       "      <th>Gender</th>\n",
       "      <th>Price (INR)</th>\n",
       "      <th>NumImages</th>\n",
       "      <th>Description</th>\n",
       "      <th>PrimaryColor</th>\n",
       "      <th>DescriptionVector</th>\n",
       "    </tr>\n",
       "  </thead>\n",
       "  <tbody>\n",
       "    <tr>\n",
       "      <th>0</th>\n",
       "      <td>10017413</td>\n",
       "      <td>DKNY Unisex Black &amp; Grey Printed Medium Trolle...</td>\n",
       "      <td>DKNY</td>\n",
       "      <td>Unisex</td>\n",
       "      <td>11745</td>\n",
       "      <td>7</td>\n",
       "      <td>Black and grey printed medium trolley bag, sec...</td>\n",
       "      <td>Black</td>\n",
       "      <td>[0.027645748, -0.0026341858, -0.0035884143, 0....</td>\n",
       "    </tr>\n",
       "    <tr>\n",
       "      <th>1</th>\n",
       "      <td>10016283</td>\n",
       "      <td>EthnoVogue Women Beige &amp; Grey Made to Measure ...</td>\n",
       "      <td>EthnoVogue</td>\n",
       "      <td>Women</td>\n",
       "      <td>5810</td>\n",
       "      <td>7</td>\n",
       "      <td>Beige &amp; Grey made to measure kurta with churid...</td>\n",
       "      <td>Beige</td>\n",
       "      <td>[-0.024660708, -0.028755415, -0.020332461, 0.0...</td>\n",
       "    </tr>\n",
       "    <tr>\n",
       "      <th>2</th>\n",
       "      <td>10009781</td>\n",
       "      <td>SPYKAR Women Pink Alexa Super Skinny Fit High-...</td>\n",
       "      <td>SPYKAR</td>\n",
       "      <td>Women</td>\n",
       "      <td>899</td>\n",
       "      <td>7</td>\n",
       "      <td>Pink coloured wash 5-pocket high-rise cropped ...</td>\n",
       "      <td>Pink</td>\n",
       "      <td>[-0.046943296, 0.08182791, 0.048335195, -0.000...</td>\n",
       "    </tr>\n",
       "    <tr>\n",
       "      <th>3</th>\n",
       "      <td>10015921</td>\n",
       "      <td>Raymond Men Blue Self-Design Single-Breasted B...</td>\n",
       "      <td>Raymond</td>\n",
       "      <td>Men</td>\n",
       "      <td>5599</td>\n",
       "      <td>5</td>\n",
       "      <td>Blue self-design bandhgala suitBlue self-desig...</td>\n",
       "      <td>Blue</td>\n",
       "      <td>[-0.015098773, -0.010285493, 0.009487324, -0.0...</td>\n",
       "    </tr>\n",
       "    <tr>\n",
       "      <th>4</th>\n",
       "      <td>10017833</td>\n",
       "      <td>Parx Men Brown &amp; Off-White Slim Fit Printed Ca...</td>\n",
       "      <td>Parx</td>\n",
       "      <td>Men</td>\n",
       "      <td>759</td>\n",
       "      <td>5</td>\n",
       "      <td>Brown and off-white printed casual shirt, has ...</td>\n",
       "      <td>White</td>\n",
       "      <td>[-0.017746517, 0.0062095528, 0.02181398, 0.026...</td>\n",
       "    </tr>\n",
       "  </tbody>\n",
       "</table>\n",
       "</div>"
      ],
      "text/plain": [
       "   ProductID                                        ProductName ProductBrand  \\\n",
       "0   10017413  DKNY Unisex Black & Grey Printed Medium Trolle...         DKNY   \n",
       "1   10016283  EthnoVogue Women Beige & Grey Made to Measure ...   EthnoVogue   \n",
       "2   10009781  SPYKAR Women Pink Alexa Super Skinny Fit High-...       SPYKAR   \n",
       "3   10015921  Raymond Men Blue Self-Design Single-Breasted B...      Raymond   \n",
       "4   10017833  Parx Men Brown & Off-White Slim Fit Printed Ca...         Parx   \n",
       "\n",
       "   Gender  Price (INR)  NumImages  \\\n",
       "0  Unisex        11745          7   \n",
       "1   Women         5810          7   \n",
       "2   Women          899          7   \n",
       "3     Men         5599          5   \n",
       "4     Men          759          5   \n",
       "\n",
       "                                         Description PrimaryColor  \\\n",
       "0  Black and grey printed medium trolley bag, sec...        Black   \n",
       "1  Beige & Grey made to measure kurta with churid...        Beige   \n",
       "2  Pink coloured wash 5-pocket high-rise cropped ...         Pink   \n",
       "3  Blue self-design bandhgala suitBlue self-desig...         Blue   \n",
       "4  Brown and off-white printed casual shirt, has ...        White   \n",
       "\n",
       "                                   DescriptionVector  \n",
       "0  [0.027645748, -0.0026341858, -0.0035884143, 0....  \n",
       "1  [-0.024660708, -0.028755415, -0.020332461, 0.0...  \n",
       "2  [-0.046943296, 0.08182791, 0.048335195, -0.000...  \n",
       "3  [-0.015098773, -0.010285493, 0.009487324, -0.0...  \n",
       "4  [-0.017746517, 0.0062095528, 0.02181398, 0.026...  "
      ]
     },
     "execution_count": 19,
     "metadata": {},
     "output_type": "execute_result"
    }
   ],
   "source": [
    "df.head()"
   ]
  },
  {
   "cell_type": "markdown",
   "metadata": {},
   "source": [
    "## Create New Index in Elastic Search"
   ]
  },
  {
   "cell_type": "code",
   "execution_count": 42,
   "metadata": {},
   "outputs": [
    {
     "data": {
      "text/plain": [
       "True"
      ]
     },
     "execution_count": 42,
     "metadata": {},
     "output_type": "execute_result"
    }
   ],
   "source": [
    "es.ping()"
   ]
  },
  {
   "cell_type": "code",
   "execution_count": 43,
   "metadata": {},
   "outputs": [],
   "source": [
    "indexMapping = {\n",
    "    \"properties\": {\n",
    "        \"ProductID\": {\n",
    "            \"type\": \"long\"\n",
    "        },\n",
    "        \"ProductName\": {\n",
    "            \"type\": \"text\"\n",
    "        },\n",
    "        \"ProductBrand\": {\n",
    "            \"type\": \"text\"\n",
    "        },\n",
    "        \"Gender\": {\n",
    "            \"type\": \"text\"\n",
    "        },\n",
    "        \"Price (INR)\": {\n",
    "            \"type\": \"long\"\n",
    "        },\n",
    "        \"NumImages\": {\n",
    "            \"type\": \"long\"\n",
    "        },\n",
    "        \"Description\": {\n",
    "            \"type\": \"text\"\n",
    "        },\n",
    "        \"PrimaryColor\": {\n",
    "            \"type\": \"text\"\n",
    "        },\n",
    "        \"DescriptionVector\": {\n",
    "            \"type\": \"dense_vector\",\n",
    "            \"dims\": 768,\n",
    "            \"index\": True,\n",
    "            \"similarity\": \"cosine\"  # Lowercase l2_norm\n",
    "        }\n",
    "    }\n",
    "}"
   ]
  },
  {
   "cell_type": "code",
   "execution_count": 46,
   "metadata": {},
   "outputs": [
    {
     "data": {
      "text/plain": [
       "ObjectApiResponse({'acknowledged': True, 'shards_acknowledged': True, 'index': 'all_products'})"
      ]
     },
     "execution_count": 46,
     "metadata": {},
     "output_type": "execute_result"
    }
   ],
   "source": [
    "\n",
    "es.indices.create(index='all_products', mappings=indexMapping)"
   ]
  },
  {
   "cell_type": "markdown",
   "metadata": {},
   "source": [
    "## Ingest the data into index"
   ]
  },
  {
   "cell_type": "code",
   "execution_count": 47,
   "metadata": {},
   "outputs": [],
   "source": [
    "record_list = df.to_dict(\"records\")"
   ]
  },
  {
   "cell_type": "code",
   "execution_count": 48,
   "metadata": {},
   "outputs": [
    {
     "data": {
      "text/plain": [
       "{'ProductID': 10017413,\n",
       " 'ProductName': 'DKNY Unisex Black & Grey Printed Medium Trolley Bag',\n",
       " 'ProductBrand': 'DKNY',\n",
       " 'Gender': 'Unisex',\n",
       " 'Price (INR)': 11745,\n",
       " 'NumImages': 7,\n",
       " 'Description': 'Black and grey printed medium trolley bag, secured with a TSA lockOne handle on the top and one on the side, has a trolley with a retractable handle on the top and four corner mounted inline skate wheelsOne main zip compartment, zip lining, two compression straps with click clasps, one zip compartment on the flap with three zip pocketsWarranty: 5 yearsWarranty provided by Brand Owner / Manufacturer',\n",
       " 'PrimaryColor': ' Black',\n",
       " 'DescriptionVector': array([ 2.76457481e-02, -2.63418583e-03, -3.58841429e-03,  5.13588004e-02,\n",
       "         3.09660304e-02,  1.40506821e-02,  7.27051590e-03,  3.13871652e-02,\n",
       "        -6.23787642e-02, -3.82879982e-03,  3.15214023e-02,  7.55473524e-02,\n",
       "         2.12641433e-03,  4.64894399e-02,  5.07449098e-02, -1.71941835e-02,\n",
       "         1.22892270e-02, -1.95682421e-02, -9.64853913e-02,  3.52684688e-03,\n",
       "        -1.83509737e-02,  2.58225333e-02, -3.12243365e-02,  5.46113774e-02,\n",
       "         2.11241357e-02,  8.97155236e-03,  1.99166518e-02,  2.25222688e-02,\n",
       "         5.33211930e-03, -5.24597391e-02,  2.56654862e-02, -2.64644250e-02,\n",
       "         1.60459168e-02, -2.47584432e-02,  1.45433398e-06, -5.99339157e-02,\n",
       "        -4.21297997e-02, -5.82055934e-03, -1.85586456e-02, -6.88409358e-02,\n",
       "         4.52963635e-02,  7.06158858e-03,  3.00955269e-02, -7.18990862e-02,\n",
       "         2.67853420e-02, -6.78084195e-02,  1.52006466e-02,  7.82433376e-02,\n",
       "        -3.86550166e-02, -1.53426472e-02,  3.39756049e-02,  1.37781976e-02,\n",
       "        -1.47243142e-02, -2.74833571e-03,  2.31591202e-02, -4.98685166e-02,\n",
       "        -5.12828771e-03,  5.24752177e-02,  1.36131300e-02, -1.93231944e-02,\n",
       "        -2.72569731e-02,  4.11068015e-02,  4.80893180e-02, -2.70954408e-02,\n",
       "         4.11909372e-02,  4.60447557e-02, -6.37177452e-02,  1.31805511e-02,\n",
       "         1.30290003e-03,  4.09116820e-02,  6.41552284e-02, -4.79834452e-02,\n",
       "         1.10395765e-03,  7.25233406e-02, -7.42130505e-05,  2.57201958e-03,\n",
       "         2.96355188e-02,  2.96354666e-02,  1.66540612e-02,  1.16769625e-02,\n",
       "        -4.72042300e-02,  6.52726218e-02, -5.69466949e-02,  5.62868305e-02,\n",
       "         2.87739635e-02,  3.27831767e-02,  2.21507624e-02,  2.87625864e-02,\n",
       "         9.41023231e-03, -2.78682299e-02,  5.07250056e-03, -1.35145718e-02,\n",
       "         2.92993933e-02,  1.73486732e-02, -7.76374899e-03, -8.01694244e-02,\n",
       "         5.42522669e-02, -5.81911393e-02,  3.02955452e-02, -2.88303941e-02,\n",
       "         1.04824454e-02,  4.99631800e-02, -1.98192932e-02,  2.69688247e-03,\n",
       "        -5.78296976e-03,  3.49554308e-02, -1.04185380e-02, -1.53064146e-03,\n",
       "        -8.06271881e-02,  3.73889282e-02,  2.62705777e-02, -2.40432937e-02,\n",
       "        -4.65659127e-02,  3.46577093e-02, -3.50580327e-02,  2.76909284e-02,\n",
       "        -1.99476331e-02,  2.66633704e-02,  3.83039266e-02, -3.57965101e-03,\n",
       "        -1.11200223e-02, -3.43021303e-02, -5.00615463e-02, -2.43414962e-03,\n",
       "         2.01843269e-02, -4.51828614e-02, -4.48808633e-02, -4.15879972e-02,\n",
       "        -1.21018086e-02,  4.56553958e-02, -4.09716517e-02,  3.33761871e-02,\n",
       "         4.05119173e-02, -1.42122479e-02, -2.18980834e-02,  2.38487795e-02,\n",
       "        -3.59017514e-02, -3.51186953e-02, -5.59868701e-02, -2.04212461e-02,\n",
       "        -1.90290180e-03, -2.63333712e-02,  6.62029814e-03,  2.82201990e-02,\n",
       "        -3.89378183e-02, -3.85373011e-02,  3.99999432e-02,  3.73885501e-03,\n",
       "        -3.34511548e-02, -6.12203516e-02, -7.10494220e-02,  1.82614177e-02,\n",
       "         4.99360785e-02, -1.96537878e-02,  3.62079851e-02,  1.36305857e-02,\n",
       "         3.72649170e-02, -1.86512787e-02, -2.54693031e-02,  1.35053759e-02,\n",
       "         2.56374981e-02, -2.38314904e-02, -2.21329778e-02,  2.39101681e-03,\n",
       "        -5.98021969e-02, -2.13336311e-02, -9.58667789e-03, -6.31961459e-03,\n",
       "        -3.08500249e-02, -1.75865684e-02, -1.89546216e-02, -3.34730260e-02,\n",
       "        -2.12754495e-03, -3.45622259e-03, -1.71548128e-02,  7.40247667e-02,\n",
       "         3.30880051e-03, -5.94480447e-02, -4.20914367e-02, -4.85308794e-03,\n",
       "        -1.24044316e-02, -1.11631222e-01,  5.64271696e-02, -7.50045525e-03,\n",
       "        -2.17736932e-03, -8.79485067e-03, -5.20495092e-03,  2.68777041e-03,\n",
       "        -1.67976674e-02, -6.23680130e-02,  3.14837918e-02, -3.52155566e-02,\n",
       "         8.10609460e-02,  3.64167020e-02,  9.73842049e-04, -3.69658545e-02,\n",
       "         2.52889004e-03, -7.46890455e-02,  8.42566974e-03, -1.65019669e-02,\n",
       "        -7.72046521e-02, -1.85622517e-02,  5.66549413e-03, -1.47190867e-02,\n",
       "        -1.65353604e-02,  4.13801111e-02, -2.33763475e-02,  9.85993724e-03,\n",
       "        -5.00025935e-02,  4.48244484e-03,  3.75414751e-02,  2.56804656e-02,\n",
       "        -2.02893349e-03, -5.84916770e-02, -1.47917243e-02, -1.84916705e-03,\n",
       "         2.87932195e-02, -2.44093910e-02,  1.05892690e-02,  4.51088697e-02,\n",
       "         6.12144619e-02,  1.33142816e-02,  5.87450117e-02, -1.59003939e-02,\n",
       "         4.00180779e-02,  1.64473653e-02,  1.43469796e-02, -2.68045720e-02,\n",
       "         7.16699585e-02,  8.84747040e-03, -6.41267654e-03,  1.15749217e-03,\n",
       "        -3.68433893e-02,  2.93019768e-02, -3.14094275e-02, -6.79298909e-03,\n",
       "         8.94473046e-02,  5.99377304e-02, -8.24591424e-03,  2.58782208e-02,\n",
       "        -4.22716215e-02,  1.91916600e-02,  2.88799783e-04,  4.13904293e-03,\n",
       "        -5.83746396e-02,  6.08170182e-02, -3.75355035e-02, -3.70271988e-02,\n",
       "        -6.11725170e-03, -1.42939240e-02, -8.24469235e-03,  1.60578114e-03,\n",
       "         3.51404399e-02, -1.88068207e-02, -2.16341652e-02, -5.51068224e-02,\n",
       "        -5.03743673e-03,  3.81737761e-02,  2.06449144e-02,  2.99775694e-03,\n",
       "         2.01758295e-02, -8.43662024e-03,  3.04707955e-03, -2.86366814e-03,\n",
       "         5.25487512e-02,  1.00486947e-03,  5.10405302e-02,  9.56338085e-03,\n",
       "         1.99479163e-02, -3.06443479e-02, -6.84498763e-03, -1.10091930e-02,\n",
       "         1.72649827e-02, -9.95549187e-03, -1.40040480e-02, -4.78949100e-02,\n",
       "         4.48318683e-02,  2.99805636e-03, -5.05882315e-03, -1.37886768e-02,\n",
       "        -1.93420611e-02, -2.25321557e-02, -4.01582904e-02, -2.50679795e-02,\n",
       "        -1.73990745e-02,  7.81958550e-03, -4.38656732e-02,  1.10517135e-02,\n",
       "        -5.72629133e-03,  2.99919508e-02, -4.39988747e-02, -4.39112162e-04,\n",
       "        -6.25560526e-03, -3.10894791e-02,  1.94589347e-02, -2.74247732e-02,\n",
       "        -9.93119832e-03, -4.21830043e-02,  2.52596829e-02,  2.97782626e-02,\n",
       "         4.61618323e-03, -3.88785303e-02, -3.68001834e-02,  8.19744635e-03,\n",
       "        -1.57793018e-03, -3.11233359e-03,  2.27060579e-02, -3.63274142e-02,\n",
       "        -2.32266970e-02,  3.96532416e-02, -1.75962467e-02,  7.61344796e-03,\n",
       "        -4.49805856e-02, -9.71956924e-02,  6.55063754e-03, -4.07041721e-02,\n",
       "        -4.23453860e-02,  2.21426338e-02, -1.69916842e-02,  9.62368250e-02,\n",
       "        -4.27953415e-02,  2.88663227e-02,  3.25763263e-02, -1.60413869e-02,\n",
       "        -2.20179018e-02, -4.18679118e-02, -6.52636215e-02, -2.43135728e-02,\n",
       "         3.35065089e-02, -2.16999520e-02,  4.89502810e-02, -3.22210938e-02,\n",
       "         5.66819608e-02,  3.94778624e-02, -6.04453310e-02, -8.55642036e-02,\n",
       "        -4.11012806e-02, -5.89904794e-03,  4.48788814e-02,  3.86384018e-02,\n",
       "         2.37329435e-02, -3.74438241e-03, -7.40814721e-03, -3.48128788e-02,\n",
       "        -1.26407882e-02, -8.32106695e-02, -7.77606620e-03,  8.23946844e-04,\n",
       "        -2.08235439e-02,  4.96369274e-03,  1.02757160e-02,  7.34596923e-02,\n",
       "         4.56727743e-02, -1.11290514e-02, -8.89118586e-04,  3.50867435e-02,\n",
       "        -5.21508802e-04,  3.29105407e-02,  3.92490625e-02,  9.39375721e-03,\n",
       "        -3.05088591e-02,  1.42533826e-02, -1.87881931e-04,  1.48091484e-02,\n",
       "         3.88668366e-02,  2.09766440e-02,  1.69475656e-02,  6.42410070e-02,\n",
       "         1.02789328e-02,  1.05285197e-02,  4.56123576e-02,  4.24702950e-02,\n",
       "         3.24788205e-02,  3.20181362e-02, -2.87148468e-02, -7.86702707e-03,\n",
       "         9.84595902e-03,  4.08065654e-02, -1.92639884e-02, -6.10284507e-03,\n",
       "         5.00562564e-02,  1.64055694e-02,  4.35196757e-02, -1.09658223e-02,\n",
       "         3.21553424e-02, -3.21289785e-02,  4.05226648e-03, -1.42192999e-02,\n",
       "        -1.72177535e-02, -2.24060249e-02,  3.41359340e-02,  1.79261547e-02,\n",
       "        -8.28824844e-03,  5.04023880e-02, -3.55288126e-02,  2.78953519e-02,\n",
       "         2.46789609e-03, -2.67912913e-03, -3.25404592e-02,  1.17414668e-02,\n",
       "        -2.00907215e-02,  4.24936414e-02,  3.08380462e-02,  1.66973099e-02,\n",
       "         3.07388678e-02, -4.58765216e-02, -5.39883319e-03,  1.92522258e-02,\n",
       "        -2.37641260e-02, -4.52496037e-02, -3.50062065e-02, -6.26831036e-03,\n",
       "        -3.49792875e-02,  6.37186170e-02, -4.95001338e-02, -8.27830955e-02,\n",
       "         2.43396545e-03, -7.25407898e-02,  5.77692501e-02, -3.55350450e-02,\n",
       "         1.10681274e-03,  7.00675941e-04, -2.26268023e-02,  1.01695154e-02,\n",
       "         1.71284173e-02, -1.74753554e-02, -3.18570100e-02, -6.42487258e-02,\n",
       "        -3.10206562e-02, -3.18854265e-02,  3.82462591e-02,  3.10539082e-02,\n",
       "        -2.99190562e-02,  1.83081944e-02, -5.88304810e-02, -2.38676984e-02,\n",
       "         3.73598523e-02,  2.49049384e-02, -6.08942062e-02, -8.83549452e-03,\n",
       "        -4.21162434e-02, -4.55484018e-02, -1.47924693e-02, -2.38328949e-02,\n",
       "        -4.74839564e-03, -4.89295647e-02, -1.93930566e-02, -4.01564091e-02,\n",
       "        -8.04095343e-03, -7.47549981e-02,  2.10533175e-03,  1.64750423e-02,\n",
       "         8.30393657e-02,  1.55175999e-02,  4.70302440e-02, -4.48355898e-02,\n",
       "         5.50825559e-02, -7.38568529e-02, -3.09090707e-02,  1.67553350e-02,\n",
       "         5.06773777e-02,  2.49253437e-02, -7.24061951e-02,  3.98998223e-02,\n",
       "         2.13704957e-03, -1.89519133e-02, -1.86337139e-02,  1.30080124e-02,\n",
       "         1.97983831e-02, -3.67520228e-02, -4.02528942e-02, -4.21345979e-03,\n",
       "        -1.62019487e-02, -3.34682572e-03,  4.09932323e-02, -2.45059989e-02,\n",
       "        -1.03827361e-02, -4.73151952e-02,  5.08268178e-02, -5.92379179e-03,\n",
       "        -3.16193531e-04, -6.27376279e-03,  1.60506703e-02,  1.63368899e-02,\n",
       "         2.72356495e-02,  2.05410048e-02,  2.15954725e-02, -1.16070956e-02,\n",
       "         1.46542676e-02, -5.12825139e-02,  1.71000604e-02, -6.01725914e-02,\n",
       "        -1.86471287e-02, -1.95505042e-02,  5.43011688e-02,  1.48305178e-01,\n",
       "         6.39533699e-02, -4.22861800e-03,  2.49036122e-02, -5.27663268e-02,\n",
       "         8.22670478e-03,  3.78340520e-02, -6.19616592e-03, -3.93907800e-02,\n",
       "         3.58749591e-02,  1.18882600e-02,  2.66932491e-02,  1.62879266e-02,\n",
       "         6.09422289e-02, -1.60511620e-02,  3.50171642e-04,  2.91721448e-02,\n",
       "        -7.17698596e-03, -2.95377690e-02,  6.30704984e-02,  5.02150171e-02,\n",
       "        -5.33037856e-02, -9.42938309e-03,  1.98484883e-02, -2.10122988e-02,\n",
       "         3.09327655e-02, -1.42165497e-02,  3.32838334e-02,  2.94383671e-02,\n",
       "         1.26157189e-02,  4.95138615e-02,  1.15884533e-02,  2.58323364e-03,\n",
       "         4.47753184e-02,  5.12728989e-02, -2.06901655e-02, -8.23473278e-03,\n",
       "        -7.23876711e-03,  1.32842204e-02, -5.08004539e-02,  7.57653341e-02,\n",
       "        -8.74614120e-02,  4.24298048e-02,  1.12237679e-02,  9.68630993e-05,\n",
       "        -4.58215848e-02, -1.55913765e-02,  2.53332388e-02, -5.37830498e-03,\n",
       "        -3.63467378e-04,  3.69623043e-02, -4.63642515e-02, -1.23735343e-03,\n",
       "         5.76702207e-02, -7.09539577e-02,  1.54587235e-02, -6.11974336e-02,\n",
       "        -1.10918999e-01, -3.09234974e-03,  2.27635112e-02, -4.78636504e-33,\n",
       "         3.12271137e-02, -6.63603842e-02, -2.36832015e-02,  2.42750961e-02,\n",
       "        -2.04062834e-03, -4.47730208e-03,  4.22917120e-03, -4.12166910e-03,\n",
       "        -3.53075266e-02, -2.23746616e-02,  1.80853531e-02, -3.13035166e-03,\n",
       "         3.27593386e-02,  4.38895915e-03,  6.06582947e-02,  1.11367758e-02,\n",
       "         2.70507950e-02, -7.78136635e-03, -6.00763783e-03, -2.07057279e-02,\n",
       "        -3.77762094e-02, -9.80796572e-03,  4.01680470e-02,  3.02954409e-02,\n",
       "         5.43257333e-02, -9.85897928e-02, -2.94540846e-03,  2.91571319e-02,\n",
       "         3.44493128e-02, -8.56006611e-03, -7.64997527e-02,  2.66986713e-03,\n",
       "         2.50923745e-02,  3.52499411e-02,  5.67993112e-02,  2.29065642e-02,\n",
       "         5.05905412e-02, -4.30480838e-02,  3.37688550e-02,  9.36795492e-03,\n",
       "         1.14865527e-02, -5.23018390e-02, -1.63467117e-02, -1.74134281e-02,\n",
       "        -8.21304566e-05,  6.74260966e-03, -3.11616920e-02,  3.66181172e-02,\n",
       "        -3.53261419e-02,  1.54254399e-02,  6.49727583e-02,  1.90679301e-02,\n",
       "        -2.05425993e-02, -1.29935360e-02,  3.07241827e-02,  3.60369794e-02,\n",
       "        -7.30984146e-03, -3.42609324e-02,  3.69405299e-02, -1.68614779e-02,\n",
       "        -6.95913285e-02, -3.51376645e-02, -1.96794085e-02, -2.16357652e-02,\n",
       "        -1.91740543e-02, -7.22266687e-03, -9.27111786e-03,  3.80431786e-02,\n",
       "        -7.26441145e-02, -3.93157043e-02,  3.23978107e-04, -1.54595673e-02,\n",
       "        -5.66323474e-02, -2.86028460e-02, -3.38706747e-02, -8.40220507e-03,\n",
       "         3.27711515e-02, -1.23574976e-02,  5.67503087e-02,  1.07323483e-01,\n",
       "         1.62489316e-03,  1.98507756e-02, -4.92326021e-02,  4.31433832e-03,\n",
       "        -2.76762955e-02, -3.61420996e-02,  2.83705033e-02, -3.32536027e-02,\n",
       "         6.01910539e-02,  7.16077071e-03, -3.21195386e-02,  1.00305744e-01,\n",
       "         2.48313155e-02,  3.09537910e-02, -1.87185104e-03, -1.96664166e-02,\n",
       "         2.54116654e-02,  2.17062142e-02, -1.50588267e-02,  9.17004142e-03,\n",
       "         3.92968673e-03,  5.89960627e-02, -3.26567739e-02, -7.23022372e-02,\n",
       "         4.42397855e-02, -8.09967238e-03,  3.66033465e-02, -6.47037709e-03,\n",
       "        -5.15290052e-02,  5.74737675e-02,  3.27605680e-02, -3.47868875e-02,\n",
       "         1.15351402e-03, -5.10836057e-02, -2.02768156e-03, -1.37376497e-02,\n",
       "        -2.26376555e-03, -1.46535514e-02,  2.56580152e-02, -3.41949873e-02,\n",
       "         3.11360266e-02,  1.11530600e-02, -2.26283055e-02, -1.86173565e-04,\n",
       "        -3.42383534e-02, -3.47214611e-03,  7.12006073e-03,  2.85438541e-02,\n",
       "         3.43615077e-02,  4.17478532e-02,  1.46220457e-02, -1.00900801e-02,\n",
       "         2.19874835e-07,  1.26043364e-04, -3.26405354e-02,  2.73181256e-02,\n",
       "        -4.31561917e-02,  6.41155848e-03,  3.25415377e-03,  2.88379332e-03,\n",
       "         1.68630537e-02, -3.92210949e-03, -3.99217531e-02, -2.82339212e-02,\n",
       "         6.63923146e-03,  9.65186767e-03, -6.46934204e-04,  8.58047307e-02,\n",
       "        -5.46624959e-02,  9.56460983e-02, -3.35841700e-02, -3.86988819e-02,\n",
       "         1.08061116e-02,  8.10265839e-02,  4.47362196e-03,  5.54964580e-02,\n",
       "         2.06635464e-02, -1.76942796e-02, -7.89712369e-02, -9.13333707e-03,\n",
       "        -5.91489486e-02, -1.78459007e-02, -2.83569507e-02,  2.71814689e-02,\n",
       "         2.92243902e-02, -4.04384956e-02, -2.55332123e-02,  1.53779080e-02,\n",
       "         1.23813525e-02,  2.65147593e-02,  4.36860323e-02,  7.80087560e-02,\n",
       "         1.78202875e-02, -3.01127099e-02,  1.06307194e-02, -5.10761589e-02,\n",
       "        -1.62147861e-02,  2.78101191e-02,  5.96088767e-02, -1.07442616e-02,\n",
       "         5.74155375e-02, -4.65737097e-02,  4.81005851e-03,  3.75613160e-02,\n",
       "        -2.49797814e-02,  1.24980360e-02,  3.64436992e-02, -1.03775179e-02,\n",
       "         3.94603498e-02,  5.78910857e-02, -5.18749617e-02, -1.85877103e-02,\n",
       "        -3.52987787e-03, -2.97394712e-02,  4.59078737e-02,  1.81115896e-03,\n",
       "         8.85509420e-03,  5.07806167e-02,  4.10648249e-03,  5.75008150e-03,\n",
       "         1.64168577e-34, -4.68513276e-03, -6.60454342e-03,  2.19718181e-02,\n",
       "        -4.97995354e-02,  2.23751944e-02,  8.27584532e-04,  6.58981800e-02,\n",
       "        -3.05624977e-02,  8.99447687e-03, -3.16480882e-02, -3.01022660e-02],\n",
       "       dtype=float32)}"
      ]
     },
     "execution_count": 48,
     "metadata": {},
     "output_type": "execute_result"
    }
   ],
   "source": [
    "record_list[0]"
   ]
  },
  {
   "cell_type": "code",
   "execution_count": 49,
   "metadata": {},
   "outputs": [],
   "source": [
    "for record in record_list:\n",
    "    try:\n",
    "        es.index(index='all_products', document=record, id=record['ProductID'])\n",
    "    except Exception as e:\n",
    "        print(e)"
   ]
  },
  {
   "cell_type": "code",
   "execution_count": 50,
   "metadata": {},
   "outputs": [
    {
     "data": {
      "text/plain": [
       "True"
      ]
     },
     "execution_count": 50,
     "metadata": {},
     "output_type": "execute_result"
    }
   ],
   "source": [
    "# Check if Elasticsearch is responding\n",
    "es.ping()"
   ]
  },
  {
   "cell_type": "code",
   "execution_count": 51,
   "metadata": {},
   "outputs": [
    {
     "data": {
      "text/plain": [
       "ObjectApiResponse({'count': 500, '_shards': {'total': 1, 'successful': 1, 'skipped': 0, 'failed': 0}})"
      ]
     },
     "execution_count": 51,
     "metadata": {},
     "output_type": "execute_result"
    }
   ],
   "source": [
    "es.count(index=\"all_products\")"
   ]
  },
  {
   "cell_type": "code",
   "execution_count": 45,
   "metadata": {},
   "outputs": [
    {
     "name": "stdout",
     "output_type": "stream",
     "text": [
      "Index deleted successfully: {'acknowledged': True}\n"
     ]
    }
   ],
   "source": [
    "try:\n",
    "    result = es.indices.delete(index=\"all_products\")\n",
    "    print(\"Index deleted successfully:\", result)\n",
    "except Exception as e:\n",
    "    print(\"Error deleting index:\", e)"
   ]
  },
  {
   "cell_type": "code",
   "execution_count": 55,
   "metadata": {},
   "outputs": [
    {
     "name": "stderr",
     "output_type": "stream",
     "text": [
      "/var/folders/f1/ss4kzjcj2b90dfxkz1d829vr0000gn/T/ipykernel_74777/2705931523.py:9: GeneralAvailabilityWarning: This API is in technical preview and may be changed or removed in a future release. Elastic will work to fix any issues, but features in technical preview are not subject to the support SLA of official GA features.\n",
      "  res=es.knn_search(index='all_products',knn=query,source=[\"ProductID\",\"ProductName\",\"ProductBrand\",\n",
      "/var/folders/f1/ss4kzjcj2b90dfxkz1d829vr0000gn/T/ipykernel_74777/2705931523.py:9: ElasticsearchWarning: The kNN search API has been replaced by the `knn` option in the search API.\n",
      "  res=es.knn_search(index='all_products',knn=query,source=[\"ProductID\",\"ProductName\",\"ProductBrand\",\n"
     ]
    },
    {
     "data": {
      "text/plain": [
       "[{'_index': 'all_products',\n",
       "  '_id': '10001265',\n",
       "  '_score': 0.6777725,\n",
       "  '_source': {'ProductID': 10001265,\n",
       "   'ProductName': 'Michael Kors Women Sexy Amber Eau de Parfum 100ml',\n",
       "   'ProductBrand': 'Michael Kors',\n",
       "   'Price (INR)': 7920,\n",
       "   'Description': 'Michael Kors Sexy Amber Eau de ParfumFragrance Notes:Top notes - amberHeart notes - sandalwoodBase - white flowers'}},\n",
       " {'_index': 'all_products',\n",
       "  '_id': '1000718',\n",
       "  '_score': 0.66698647,\n",
       "  '_source': {'ProductID': 1000718,\n",
       "   'ProductName': 'ahilya Imperial Filigree Collection Gold-Plated Sterling Silver Drop Earrings',\n",
       "   'ProductBrand': 'ahilya',\n",
       "   'Price (INR)': 6120,\n",
       "   'Description': 'A pair of gold-plated sterling silver drop earrings, has a stylised dangler with cut-out detail, a faceted beaded dropSecured with a fish-hook ear wire'}},\n",
       " {'_index': 'all_products',\n",
       "  '_id': '1000717',\n",
       "  '_score': 0.66692495,\n",
       "  '_source': {'ProductID': 1000717,\n",
       "   'ProductName': 'ahilya Maroon Gold-Plated Sterling Silver Hoop Earrings',\n",
       "   'ProductBrand': 'ahilya',\n",
       "   'Price (INR)': 5998,\n",
       "   'Description': 'A pair of maroon gold-plated sterling silver hoop earrings, has floral detail with multiple multifaceted stone embellishments, and a jhumki dangler with a cluster\\xa0of beadsSecured with a stylised insert closure'}}]"
      ]
     },
     "execution_count": 55,
     "metadata": {},
     "output_type": "execute_result"
    }
   ],
   "source": [
    "input = \"Exotic\"\n",
    "vector_of_input = model.encode(input)\n",
    "query={\n",
    "    \"field\": \"DescriptionVector\",\n",
    "    \"query_vector\": vector_of_input,\n",
    "    \"k\": 3,\n",
    "    \"num_candidates\": 500\n",
    "}\n",
    "res=es.knn_search(index='all_products',knn=query,source=[\"ProductID\",\"ProductName\",\"ProductBrand\",\n",
    "\"Price (INR)\",\"Description\"])\n",
    "\n",
    "res[\"hits\"][\"hits\"]\n"
   ]
  }
 ],
 "metadata": {
  "kernelspec": {
   "display_name": "venv",
   "language": "python",
   "name": "python3"
  },
  "language_info": {
   "codemirror_mode": {
    "name": "ipython",
    "version": 3
   },
   "file_extension": ".py",
   "mimetype": "text/x-python",
   "name": "python",
   "nbconvert_exporter": "python",
   "pygments_lexer": "ipython3",
   "version": "3.13.1"
  }
 },
 "nbformat": 4,
 "nbformat_minor": 2
}
